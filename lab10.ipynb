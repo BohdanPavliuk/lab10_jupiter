{
  "cells": [
    {
      "cell_type": "markdown",
      "metadata": {
        "id": "view-in-github",
        "colab_type": "text"
      },
      "source": [
        "<a href=\"https://colab.research.google.com/github/Vspotiv/lab10_jupiter/blob/main/lab10.ipynb\" target=\"_parent\"><img src=\"https://colab.research.google.com/assets/colab-badge.svg\" alt=\"Open In Colab\"/></a>"
      ]
    },
    {
      "cell_type": "markdown",
      "metadata": {
        "id": "Jlu5sdHW953A"
      },
      "source": [
        "# ЛР №10. Завдання на програмування №1\n",
        "\n",
        "The following code loads the olympics dataset (olympics.csv), which was derrived from the Wikipedia entry on [All Time Olympic Games Medals](https://en.wikipedia.org/wiki/All-time_Olympic_Games_medal_table), and does some basic data cleaning. \n",
        "\n",
        "The columns are organized as # of Summer games, Summer medals, # of Winter games, Winter medals, total # number of games, total # of medals. Use this dataset to answer the questions below."
      ]
    },
    {
      "cell_type": "code",
      "execution_count": null,
      "metadata": {
        "id": "wibNVelg953C"
      },
      "outputs": [],
      "source": [
        "import pandas as pd\n",
        "import numpy as np"
      ]
    },
    {
      "cell_type": "markdown",
      "metadata": {
        "id": "WrYi2GT7953D"
      },
      "source": [
        "В цьому модулі уже є реалізована функція read_data, яка читає файл csv та форматує отриману інформацію."
      ]
    },
    {
      "cell_type": "code",
      "execution_count": null,
      "metadata": {
        "nbgrader": {
          "grade": false,
          "grade_id": "1",
          "locked": false,
          "solution": false
        },
        "id": "PMfiqwmu953E"
      },
      "outputs": [],
      "source": [
        "def read_data():\n",
        "    df = pd.read_csv('olympics.csv', index_col=0, skiprows=1)\n",
        "    for col in df.columns:\n",
        "        if col[:2] == '01':\n",
        "            df.rename(columns={col: 'Gold'+col[4:]}, inplace=True)\n",
        "        elif col[:2] == '02':\n",
        "            df.rename(columns={col: 'Silver'+col[4:]}, inplace=True)\n",
        "        elif col[:2] == '03':\n",
        "            df.rename(columns={col: 'Bronze'+col[4:]}, inplace=True)\n",
        "        elif col[:1] == '№':\n",
        "            df.rename(columns={col: '#'+col[1:]}, inplace=True)\n",
        "\n",
        "    names_ids = df.index.str.split('\\\\s\\\\(') # split the index by '('\n",
        "\n",
        "    df.index = names_ids.str[0] # the [0] element is the country name (new index)\n",
        "    df['ID'] = names_ids.str[1].str[:3] # the [1] element is the abbreviation or ID (take first 3 characters from that)\n",
        "\n",
        "    df = df.drop('Totals')\n",
        "    #print(df)\n",
        "\n",
        "    return df\n",
        "\n",
        "df = read_data()"
      ]
    },
    {
      "cell_type": "markdown",
      "metadata": {
        "id": "AzYh_pRV953F"
      },
      "source": [
        "### first_country(df)\n",
        "\n",
        "Повинна повертати Series, що містить інформацію щодо першої країни в списку"
      ]
    },
    {
      "cell_type": "code",
      "execution_count": null,
      "metadata": {
        "colab": {
          "base_uri": "https://localhost:8080/"
        },
        "id": "zcJkhYM9953F",
        "outputId": "e6793f85-44ed-49aa-e6b2-031cfd471f1b"
      },
      "outputs": [
        {
          "output_type": "execute_result",
          "data": {
            "text/plain": [
              "# Summer           13\n",
              "Gold                0\n",
              "Silver              0\n",
              "Bronze              2\n",
              "Total               2\n",
              "# Winter            0\n",
              "Gold.1              0\n",
              "Silver.1            0\n",
              "Bronze.1            0\n",
              "Total.1             0\n",
              "# Games            13\n",
              "Gold.2              0\n",
              "Silver.2            0\n",
              "Bronze.2            2\n",
              "Combined total      2\n",
              "ID                AFG\n",
              "Points              2\n",
              "Name: Afghanistan, dtype: object"
            ]
          },
          "metadata": {},
          "execution_count": 38
        }
      ],
      "source": [
        "def first_country(df):\n",
        "    return df.iloc[0]\n",
        "\n",
        "first_country(df) "
      ]
    },
    {
      "cell_type": "markdown",
      "metadata": {
        "id": "Gv0wqwQL953F"
      },
      "source": [
        "### summer_biggest(df)\n",
        "повинна повертати стрічку з країною, що виграла найбільше золотих медалей в літніх іграх"
      ]
    },
    {
      "cell_type": "code",
      "execution_count": null,
      "metadata": {
        "nbgrader": {
          "grade": false,
          "locked": false,
          "solution": false
        },
        "colab": {
          "base_uri": "https://localhost:8080/",
          "height": 36
        },
        "id": "diLNGrE1953G",
        "outputId": "c28fd47b-b179-4d34-b471-6722b6e6e270"
      },
      "outputs": [
        {
          "output_type": "execute_result",
          "data": {
            "text/plain": [
              "'United States'"
            ],
            "application/vnd.google.colaboratory.intrinsic+json": {
              "type": "string"
            }
          },
          "metadata": {},
          "execution_count": 29
        }
      ],
      "source": [
        "def summer_biggest(df):\n",
        "    return df['Gold'].idxmax()\n",
        "summer_biggest(df)"
      ]
    },
    {
      "cell_type": "markdown",
      "metadata": {
        "id": "mCO5CJRn953H"
      },
      "source": [
        "### difference_biggest(df)\n",
        "\n",
        "повинна повертати стрічку з країною, що має найбільшу різницю (по модулю)  між кількістю золотих медалей на літніх та зимових іграх"
      ]
    },
    {
      "cell_type": "code",
      "execution_count": null,
      "metadata": {
        "collapsed": true,
        "colab": {
          "base_uri": "https://localhost:8080/",
          "height": 36
        },
        "id": "WAExFweN953H",
        "outputId": "3098236b-4595-47b9-ac47-4baaf22bf9e9"
      },
      "outputs": [
        {
          "output_type": "execute_result",
          "data": {
            "text/plain": [
              "'United States'"
            ],
            "application/vnd.google.colaboratory.intrinsic+json": {
              "type": "string"
            }
          },
          "metadata": {},
          "execution_count": 40
        }
      ],
      "source": [
        "def difference_biggest(df):\n",
        "\n",
        "    return (df['Gold'] - df['Gold.1']).abs().idxmax()\n",
        "\n",
        "difference_biggest(df)"
      ]
    },
    {
      "cell_type": "markdown",
      "metadata": {
        "id": "ep_C3wf1953I"
      },
      "source": [
        "### difference_biggest_relative(df)\n",
        "повинна повертати стрічку з країною, що має найбільшу різницю (по модулю)  між кількістю золотих медалей на літніх та зимових іграх, відносно до загальної кількості виграних золотих медалей цієї країни. Тобто, задіяна така формула:\n",
        "\n",
        "$$\\frac{Summer~Gold - Winter~Gold}{Total~Gold}$$\n",
        "\n",
        "Включайте тільки ті країни, які виграли хоча б 1 золоту медаль влітку та взимку."
      ]
    },
    {
      "cell_type": "code",
      "execution_count": null,
      "metadata": {
        "collapsed": true,
        "colab": {
          "base_uri": "https://localhost:8080/",
          "height": 36
        },
        "id": "xn2-FR6q953I",
        "outputId": "78c1d52b-06a2-4741-eb0e-5873f9b7995c"
      },
      "outputs": [
        {
          "output_type": "execute_result",
          "data": {
            "text/plain": [
              "'Bulgaria'"
            ],
            "application/vnd.google.colaboratory.intrinsic+json": {
              "type": "string"
            }
          },
          "metadata": {},
          "execution_count": 39
        }
      ],
      "source": [
        "def difference_biggest_relative(df):\n",
        "    df = df[(df['Gold'] > 0) & (df['Gold.1'] > 0)]\n",
        "    return abs((df['Gold'] - df['Gold.1']) / df['Gold.2']).idxmax()\n",
        "\n",
        "difference_biggest_relative(df)"
      ]
    },
    {
      "cell_type": "markdown",
      "metadata": {
        "id": "oUG4AEXw953J"
      },
      "source": [
        "### get_points(df)\n",
        "\n",
        "повинна додати у df стовпець Points, а також повернути тільки його (об’єкт Series). Цей стовпець буде містити кількість очок для кожної країни. За кожну золоту медаль країні присвоюється 3 бали, за кожну срібну - 2 бали і за \n",
        "\n",
        "бронзову - 1. Загальна кількість балів - сума балів.\n"
      ]
    },
    {
      "cell_type": "code",
      "execution_count": null,
      "metadata": {
        "collapsed": true,
        "colab": {
          "base_uri": "https://localhost:8080/"
        },
        "id": "0489UfRd953J",
        "outputId": "0152e48d-c5ea-4dd4-8f77-1bddc07cda72"
      },
      "outputs": [
        {
          "output_type": "execute_result",
          "data": {
            "text/plain": [
              "Afghanistan                           2\n",
              "Algeria                              27\n",
              "Argentina                           130\n",
              "Armenia                              16\n",
              "Australasia                          22\n",
              "                                   ... \n",
              "Yugoslavia                          171\n",
              "Independent Olympic Participants      4\n",
              "Zambia                                3\n",
              "Zimbabwe                             18\n",
              "Mixed team                           38\n",
              "Name: Points, Length: 146, dtype: int64"
            ]
          },
          "metadata": {},
          "execution_count": 23
        }
      ],
      "source": [
        "def get_points(df):\n",
        "    df['Points'] = df['Gold.2']*3 + df['Silver.2']*2 + df['Bronze.2']\n",
        "    return df['Points']\n",
        "\n",
        "get_points(df)"
      ]
    },
    {
      "cell_type": "markdown",
      "source": [
        "# ЛР №10. Завдання на програмування №2\n",
        "\n",
        "В цьому завданні використовуються дані перепису населення зібрані Бюро перепису населення США. Округи - це політичні та географічні підрозділи штатів США. Цей набір даних містить дані про населення округів і штатів США з 2010 по 2015 рік у файлі census.csv\n",
        "\n",
        "Потрібно реалізувати модуль counties_process.py, який містить наступні функції:\n"
      ],
      "metadata": {
        "id": "7UpE6U50e4Pm"
      }
    },
    {
      "cell_type": "code",
      "source": [
        "path_to_file = '/content/census.csv'"
      ],
      "metadata": {
        "id": "kKNSCXiPf9b9"
      },
      "execution_count": null,
      "outputs": []
    },
    {
      "cell_type": "markdown",
      "source": [
        "###read_data(path_to_file) \n",
        "\n",
        "читає файл та повертає DataFrame об'єкт, без додаткової обробки даних"
      ],
      "metadata": {
        "id": "a5tJ7Z6GfyGQ"
      }
    },
    {
      "cell_type": "code",
      "source": [
        "\"\"\"Analyse census data collected by the US Census Bureau \"\"\"\n",
        "import pandas as pd\n",
        "def read_data(path_to_file):\n",
        "    \"\"\"\n",
        "    Write csv file to DataFrame\n",
        "    \"\"\"\n",
        "    return pd.read_csv(path_to_file)\n",
        "pd = read_data(path_to_file)"
      ],
      "metadata": {
        "id": "uA5H8TtVfMuW"
      },
      "execution_count": null,
      "outputs": []
    },
    {
      "cell_type": "markdown",
      "source": [
        "### max_counties(df)\n",
        " повертає стрічку - назву штату з найбільшою кількістю округів\n"
      ],
      "metadata": {
        "id": "QwcSi-mrgm6r"
      }
    },
    {
      "cell_type": "code",
      "source": [
        "def max_counties(dataf):\n",
        "    \"\"\"\n",
        "    return string with name of state with max COUNTY\n",
        "    >>> max_counties(read_data('census.csv'))\n",
        "    'Texas'\n",
        "    \"\"\"\n",
        "    dataf = dataf.mask(dataf['SUMLEV'] != 50)\n",
        "    return dataf['STNAME'].value_counts().idxmax()\n",
        "max_counties(pd)"
      ],
      "metadata": {
        "colab": {
          "base_uri": "https://localhost:8080/",
          "height": 36
        },
        "id": "2FYgQc-rgwE-",
        "outputId": "c0d25766-e818-432a-e527-6bae9d02bb3b"
      },
      "execution_count": null,
      "outputs": [
        {
          "output_type": "execute_result",
          "data": {
            "text/plain": [
              "'Texas'"
            ],
            "application/vnd.google.colaboratory.intrinsic+json": {
              "type": "string"
            }
          },
          "metadata": {},
          "execution_count": 8
        }
      ]
    },
    {
      "cell_type": "markdown",
      "source": [
        "### max_difference(df)\n",
        "повертає стрічку - назву округу, який містить найбільшу абсолютну зміну числа популяції протягом 2010-2015 років. (Підказка: значення кількості населення зберігаються у стовпцях POPESTIMATE2010 - POPESTIMATE2015, вам потрібно врахувати всі шість стовпців). Наприклад, якщо населення округу за 6-річний період становить 100, 120, 80, 105, 100, 130, то найбільшою його зміною за цей період буде | 130-80 | = 50."
      ],
      "metadata": {
        "id": "88_6nNOkg8_3"
      }
    },
    {
      "cell_type": "code",
      "source": [
        "def max_difference(dataf):\n",
        "    \"\"\"\n",
        "    Return string - name of City with maximum change of population\n",
        "    during 2015-2010\n",
        "    >>> max_difference(read_data('census.csv'))\n",
        "    'Harris County'\n",
        "    \"\"\"\n",
        "    dataf = dataf.mask(dataf['SUMLEV'] != 50)\n",
        "    max_val = dataf.iloc[:, 9:15].max(axis = 1)\n",
        "    min_val = dataf.iloc[:, 9:15].min(axis = 1)\n",
        "    ind = abs(max_val-min_val).idxmax()\n",
        "    return dataf.at[ind, 'CTYNAME']\n",
        "max_difference(pd)"
      ],
      "metadata": {
        "colab": {
          "base_uri": "https://localhost:8080/",
          "height": 36
        },
        "id": "w2J2o8DFhEeQ",
        "outputId": "69d5f455-3897-4acd-d859-0ad7b6dc71fa"
      },
      "execution_count": null,
      "outputs": [
        {
          "output_type": "execute_result",
          "data": {
            "text/plain": [
              "'Harris County'"
            ],
            "application/vnd.google.colaboratory.intrinsic+json": {
              "type": "string"
            }
          },
          "metadata": {},
          "execution_count": 9
        }
      ]
    },
    {
      "cell_type": "markdown",
      "source": [
        "### conditional_counties(df)\n",
        "У цьому файлі дані розділено на чотири регіони за допомогою колонки \"REGION\". Створіть функцію, яка знайде округи, що належать до регіонів 1 або 2, назва яких починається на 'Washington', а POPESTIMATE2015 перевищував POPESTIMATE2014. Ця функція повинна повертати 5x2 DataFrame зі стовпцями = ['STNAME', 'CTYNAME']"
      ],
      "metadata": {
        "id": "s8yWhmwqhKqg"
      }
    },
    {
      "cell_type": "code",
      "source": [
        "def conditional_counties(dataf):\n",
        "    \"\"\"\n",
        "    Make DataFrame with specififc value\n",
        "    >>> conditional_counties(read_data('census.csv'))\n",
        "                STNAME            CTYNAME\n",
        "    896           Iowa  Washington County\n",
        "    1419     Minnesota  Washington County\n",
        "    2345  Pennsylvania  Washington County\n",
        "    2355  Rhode Island  Washington County\n",
        "    3163     Wisconsin  Washington County\n",
        "    \"\"\"\n",
        "    dataf = dataf.mask(dataf['SUMLEV'] != 50)\n",
        "    dataf = dataf[(dataf['REGION'] == 1) | (dataf['REGION'] == 2)]\n",
        "    dataf = dataf.loc[(dataf['CTYNAME'].apply(lambda x: x.startswith(\"Washington\")))\\\n",
        "     & (dataf['POPESTIMATE2015'] > dataf['POPESTIMATE2014'])]\n",
        "    return dataf.loc[:, ['STNAME', 'CTYNAME']]\n",
        "conditional_counties(pd)"
      ],
      "metadata": {
        "colab": {
          "base_uri": "https://localhost:8080/",
          "height": 206
        },
        "id": "EvD03lXchRT3",
        "outputId": "a14c8e3a-64ee-4c40-f713-3251039a070e"
      },
      "execution_count": null,
      "outputs": [
        {
          "output_type": "execute_result",
          "data": {
            "text/plain": [
              "            STNAME            CTYNAME\n",
              "896           Iowa  Washington County\n",
              "1419     Minnesota  Washington County\n",
              "2345  Pennsylvania  Washington County\n",
              "2355  Rhode Island  Washington County\n",
              "3163     Wisconsin  Washington County"
            ],
            "text/html": [
              "\n",
              "  <div id=\"df-ea2b67b6-2a10-4bce-b82d-dadd087db6c8\">\n",
              "    <div class=\"colab-df-container\">\n",
              "      <div>\n",
              "<style scoped>\n",
              "    .dataframe tbody tr th:only-of-type {\n",
              "        vertical-align: middle;\n",
              "    }\n",
              "\n",
              "    .dataframe tbody tr th {\n",
              "        vertical-align: top;\n",
              "    }\n",
              "\n",
              "    .dataframe thead th {\n",
              "        text-align: right;\n",
              "    }\n",
              "</style>\n",
              "<table border=\"1\" class=\"dataframe\">\n",
              "  <thead>\n",
              "    <tr style=\"text-align: right;\">\n",
              "      <th></th>\n",
              "      <th>STNAME</th>\n",
              "      <th>CTYNAME</th>\n",
              "    </tr>\n",
              "  </thead>\n",
              "  <tbody>\n",
              "    <tr>\n",
              "      <th>896</th>\n",
              "      <td>Iowa</td>\n",
              "      <td>Washington County</td>\n",
              "    </tr>\n",
              "    <tr>\n",
              "      <th>1419</th>\n",
              "      <td>Minnesota</td>\n",
              "      <td>Washington County</td>\n",
              "    </tr>\n",
              "    <tr>\n",
              "      <th>2345</th>\n",
              "      <td>Pennsylvania</td>\n",
              "      <td>Washington County</td>\n",
              "    </tr>\n",
              "    <tr>\n",
              "      <th>2355</th>\n",
              "      <td>Rhode Island</td>\n",
              "      <td>Washington County</td>\n",
              "    </tr>\n",
              "    <tr>\n",
              "      <th>3163</th>\n",
              "      <td>Wisconsin</td>\n",
              "      <td>Washington County</td>\n",
              "    </tr>\n",
              "  </tbody>\n",
              "</table>\n",
              "</div>\n",
              "      <button class=\"colab-df-convert\" onclick=\"convertToInteractive('df-ea2b67b6-2a10-4bce-b82d-dadd087db6c8')\"\n",
              "              title=\"Convert this dataframe to an interactive table.\"\n",
              "              style=\"display:none;\">\n",
              "        \n",
              "  <svg xmlns=\"http://www.w3.org/2000/svg\" height=\"24px\"viewBox=\"0 0 24 24\"\n",
              "       width=\"24px\">\n",
              "    <path d=\"M0 0h24v24H0V0z\" fill=\"none\"/>\n",
              "    <path d=\"M18.56 5.44l.94 2.06.94-2.06 2.06-.94-2.06-.94-.94-2.06-.94 2.06-2.06.94zm-11 1L8.5 8.5l.94-2.06 2.06-.94-2.06-.94L8.5 2.5l-.94 2.06-2.06.94zm10 10l.94 2.06.94-2.06 2.06-.94-2.06-.94-.94-2.06-.94 2.06-2.06.94z\"/><path d=\"M17.41 7.96l-1.37-1.37c-.4-.4-.92-.59-1.43-.59-.52 0-1.04.2-1.43.59L10.3 9.45l-7.72 7.72c-.78.78-.78 2.05 0 2.83L4 21.41c.39.39.9.59 1.41.59.51 0 1.02-.2 1.41-.59l7.78-7.78 2.81-2.81c.8-.78.8-2.07 0-2.86zM5.41 20L4 18.59l7.72-7.72 1.47 1.35L5.41 20z\"/>\n",
              "  </svg>\n",
              "      </button>\n",
              "      \n",
              "  <style>\n",
              "    .colab-df-container {\n",
              "      display:flex;\n",
              "      flex-wrap:wrap;\n",
              "      gap: 12px;\n",
              "    }\n",
              "\n",
              "    .colab-df-convert {\n",
              "      background-color: #E8F0FE;\n",
              "      border: none;\n",
              "      border-radius: 50%;\n",
              "      cursor: pointer;\n",
              "      display: none;\n",
              "      fill: #1967D2;\n",
              "      height: 32px;\n",
              "      padding: 0 0 0 0;\n",
              "      width: 32px;\n",
              "    }\n",
              "\n",
              "    .colab-df-convert:hover {\n",
              "      background-color: #E2EBFA;\n",
              "      box-shadow: 0px 1px 2px rgba(60, 64, 67, 0.3), 0px 1px 3px 1px rgba(60, 64, 67, 0.15);\n",
              "      fill: #174EA6;\n",
              "    }\n",
              "\n",
              "    [theme=dark] .colab-df-convert {\n",
              "      background-color: #3B4455;\n",
              "      fill: #D2E3FC;\n",
              "    }\n",
              "\n",
              "    [theme=dark] .colab-df-convert:hover {\n",
              "      background-color: #434B5C;\n",
              "      box-shadow: 0px 1px 3px 1px rgba(0, 0, 0, 0.15);\n",
              "      filter: drop-shadow(0px 1px 2px rgba(0, 0, 0, 0.3));\n",
              "      fill: #FFFFFF;\n",
              "    }\n",
              "  </style>\n",
              "\n",
              "      <script>\n",
              "        const buttonEl =\n",
              "          document.querySelector('#df-ea2b67b6-2a10-4bce-b82d-dadd087db6c8 button.colab-df-convert');\n",
              "        buttonEl.style.display =\n",
              "          google.colab.kernel.accessAllowed ? 'block' : 'none';\n",
              "\n",
              "        async function convertToInteractive(key) {\n",
              "          const element = document.querySelector('#df-ea2b67b6-2a10-4bce-b82d-dadd087db6c8');\n",
              "          const dataTable =\n",
              "            await google.colab.kernel.invokeFunction('convertToInteractive',\n",
              "                                                     [key], {});\n",
              "          if (!dataTable) return;\n",
              "\n",
              "          const docLinkHtml = 'Like what you see? Visit the ' +\n",
              "            '<a target=\"_blank\" href=https://colab.research.google.com/notebooks/data_table.ipynb>data table notebook</a>'\n",
              "            + ' to learn more about interactive tables.';\n",
              "          element.innerHTML = '';\n",
              "          dataTable['output_type'] = 'display_data';\n",
              "          await google.colab.output.renderOutput(dataTable, element);\n",
              "          const docLink = document.createElement('div');\n",
              "          docLink.innerHTML = docLinkHtml;\n",
              "          element.appendChild(docLink);\n",
              "        }\n",
              "      </script>\n",
              "    </div>\n",
              "  </div>\n",
              "  "
            ]
          },
          "metadata": {},
          "execution_count": 10
        }
      ]
    }
  ],
  "metadata": {
    "anaconda-cloud": {},
    "coursera": {
      "course_slug": "python-data-analysis",
      "graded_item_id": "tHmgx",
      "launcher_item_id": "Um6Bz",
      "part_id": "OQsnr"
    },
    "kernelspec": {
      "display_name": "Python 3.10.8 64-bit",
      "language": "python",
      "name": "python3"
    },
    "language_info": {
      "codemirror_mode": {
        "name": "ipython",
        "version": 3
      },
      "file_extension": ".py",
      "mimetype": "text/x-python",
      "name": "python",
      "nbconvert_exporter": "python",
      "pygments_lexer": "ipython3",
      "version": "3.10.8"
    },
    "vscode": {
      "interpreter": {
        "hash": "aee8b7b246df8f9039afb4144a1f6fd8d2ca17a180786b69acc140d282b71a49"
      }
    },
    "colab": {
      "provenance": [],
      "include_colab_link": true
    }
  },
  "nbformat": 4,
  "nbformat_minor": 0
}